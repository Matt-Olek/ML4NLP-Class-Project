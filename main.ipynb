{
 "cells": [
  {
   "cell_type": "code",
   "execution_count": 1,
   "metadata": {},
   "outputs": [],
   "source": [
    "import pandas as pd\n",
    "\n",
    "df_pass = pd.read_parquet(\"hf://datasets/rag-datasets/rag-mini-bioasq/data/passages.parquet/part.0.parquet\")\n",
    "df_test = pd.read_parquet(\"hf://datasets/rag-datasets/rag-mini-bioasq/data/test.parquet/part.0.parquet\")"
   ]
  },
  {
   "cell_type": "code",
   "execution_count": 2,
   "metadata": {},
   "outputs": [
    {
     "name": "stdout",
     "output_type": "stream",
     "text": [
      "Index(['passage'], dtype='object')\n",
      "40221\n"
     ]
    },
    {
     "data": {
      "text/html": [
       "<div>\n",
       "<style scoped>\n",
       "    .dataframe tbody tr th:only-of-type {\n",
       "        vertical-align: middle;\n",
       "    }\n",
       "\n",
       "    .dataframe tbody tr th {\n",
       "        vertical-align: top;\n",
       "    }\n",
       "\n",
       "    .dataframe thead th {\n",
       "        text-align: right;\n",
       "    }\n",
       "</style>\n",
       "<table border=\"1\" class=\"dataframe\">\n",
       "  <thead>\n",
       "    <tr style=\"text-align: right;\">\n",
       "      <th></th>\n",
       "      <th>passage</th>\n",
       "    </tr>\n",
       "    <tr>\n",
       "      <th>id</th>\n",
       "      <th></th>\n",
       "    </tr>\n",
       "  </thead>\n",
       "  <tbody>\n",
       "    <tr>\n",
       "      <th>9797</th>\n",
       "      <td>New data on viruses isolated from patients wit...</td>\n",
       "    </tr>\n",
       "    <tr>\n",
       "      <th>11906</th>\n",
       "      <td>We describe an improved method for detecting d...</td>\n",
       "    </tr>\n",
       "    <tr>\n",
       "      <th>16083</th>\n",
       "      <td>We have studied the effects of curare on respo...</td>\n",
       "    </tr>\n",
       "    <tr>\n",
       "      <th>23188</th>\n",
       "      <td>Kinetic and electrophoretic properties of 230-...</td>\n",
       "    </tr>\n",
       "    <tr>\n",
       "      <th>23469</th>\n",
       "      <td>Male Wistar specific-pathogen-free rats aged 2...</td>\n",
       "    </tr>\n",
       "  </tbody>\n",
       "</table>\n",
       "</div>"
      ],
      "text/plain": [
       "                                                 passage\n",
       "id                                                      \n",
       "9797   New data on viruses isolated from patients wit...\n",
       "11906  We describe an improved method for detecting d...\n",
       "16083  We have studied the effects of curare on respo...\n",
       "23188  Kinetic and electrophoretic properties of 230-...\n",
       "23469  Male Wistar specific-pathogen-free rats aged 2..."
      ]
     },
     "execution_count": 2,
     "metadata": {},
     "output_type": "execute_result"
    }
   ],
   "source": [
    "print(df_pass.columns)\n",
    "print(len(df_pass))\n",
    "df_pass.head()"
   ]
  },
  {
   "cell_type": "code",
   "execution_count": 3,
   "metadata": {},
   "outputs": [
    {
     "name": "stdout",
     "output_type": "stream",
     "text": [
      "passage    New data on viruses isolated from patients wit...\n",
      "Name: 9797, dtype: string\n"
     ]
    }
   ],
   "source": [
    "from langchain_core.documents import Document\n",
    "print(df_pass.iloc[0])\n",
    "docs = [Document(page_content=row[\"passage\"]) for _, row in df_pass.iterrows()]"
   ]
  },
  {
   "cell_type": "code",
   "execution_count": 4,
   "metadata": {},
   "outputs": [
    {
     "data": {
      "text/html": [
       "<div>\n",
       "<style scoped>\n",
       "    .dataframe tbody tr th:only-of-type {\n",
       "        vertical-align: middle;\n",
       "    }\n",
       "\n",
       "    .dataframe tbody tr th {\n",
       "        vertical-align: top;\n",
       "    }\n",
       "\n",
       "    .dataframe thead th {\n",
       "        text-align: right;\n",
       "    }\n",
       "</style>\n",
       "<table border=\"1\" class=\"dataframe\">\n",
       "  <thead>\n",
       "    <tr style=\"text-align: right;\">\n",
       "      <th></th>\n",
       "      <th>question</th>\n",
       "      <th>answer</th>\n",
       "      <th>relevant_passage_ids</th>\n",
       "    </tr>\n",
       "    <tr>\n",
       "      <th>id</th>\n",
       "      <th></th>\n",
       "      <th></th>\n",
       "      <th></th>\n",
       "    </tr>\n",
       "  </thead>\n",
       "  <tbody>\n",
       "    <tr>\n",
       "      <th>0</th>\n",
       "      <td>Is Hirschsprung disease a mendelian or a multi...</td>\n",
       "      <td>Coding sequence mutations in RET, GDNF, EDNRB,...</td>\n",
       "      <td>[20598273, 6650562, 15829955, 15617541, 230011...</td>\n",
       "    </tr>\n",
       "    <tr>\n",
       "      <th>1</th>\n",
       "      <td>List signaling molecules (ligands) that intera...</td>\n",
       "      <td>The 7 known EGFR ligands  are: epidermal growt...</td>\n",
       "      <td>[23821377, 24323361, 23382875, 22247333, 23787...</td>\n",
       "    </tr>\n",
       "    <tr>\n",
       "      <th>2</th>\n",
       "      <td>Is the protein Papilin secreted?</td>\n",
       "      <td>Yes,  papilin is a secreted protein</td>\n",
       "      <td>[21784067, 19297413, 15094122, 7515725, 332004...</td>\n",
       "    </tr>\n",
       "    <tr>\n",
       "      <th>3</th>\n",
       "      <td>Are long non coding RNAs spliced?</td>\n",
       "      <td>Long non coding RNAs appear to be spliced thro...</td>\n",
       "      <td>[22955974, 21622663, 22707570, 22955988, 24285...</td>\n",
       "    </tr>\n",
       "    <tr>\n",
       "      <th>4</th>\n",
       "      <td>Is RANKL secreted from the cells?</td>\n",
       "      <td>Receptor activator of nuclear factor κB ligand...</td>\n",
       "      <td>[22867712, 23827649, 21618594, 23835909, 24265...</td>\n",
       "    </tr>\n",
       "  </tbody>\n",
       "</table>\n",
       "</div>"
      ],
      "text/plain": [
       "                                             question  \\\n",
       "id                                                      \n",
       "0   Is Hirschsprung disease a mendelian or a multi...   \n",
       "1   List signaling molecules (ligands) that intera...   \n",
       "2                    Is the protein Papilin secreted?   \n",
       "3                   Are long non coding RNAs spliced?   \n",
       "4                   Is RANKL secreted from the cells?   \n",
       "\n",
       "                                               answer  \\\n",
       "id                                                      \n",
       "0   Coding sequence mutations in RET, GDNF, EDNRB,...   \n",
       "1   The 7 known EGFR ligands  are: epidermal growt...   \n",
       "2                 Yes,  papilin is a secreted protein   \n",
       "3   Long non coding RNAs appear to be spliced thro...   \n",
       "4   Receptor activator of nuclear factor κB ligand...   \n",
       "\n",
       "                                 relevant_passage_ids  \n",
       "id                                                     \n",
       "0   [20598273, 6650562, 15829955, 15617541, 230011...  \n",
       "1   [23821377, 24323361, 23382875, 22247333, 23787...  \n",
       "2   [21784067, 19297413, 15094122, 7515725, 332004...  \n",
       "3   [22955974, 21622663, 22707570, 22955988, 24285...  \n",
       "4   [22867712, 23827649, 21618594, 23835909, 24265...  "
      ]
     },
     "execution_count": 4,
     "metadata": {},
     "output_type": "execute_result"
    }
   ],
   "source": [
    "df_test.head()"
   ]
  },
  {
   "cell_type": "code",
   "execution_count": 11,
   "metadata": {},
   "outputs": [
    {
     "name": "stdout",
     "output_type": "stream",
     "text": [
      "[20598273, 6650562, 15829955, 15617541, 23001136, 8896569, 21995290, 12239580, 15858239]\n"
     ]
    },
    {
     "ename": "NameError",
     "evalue": "name 'max_idx' is not defined",
     "output_type": "error",
     "traceback": [
      "\u001b[31m---------------------------------------------------------------------------\u001b[39m",
      "\u001b[31mNameError\u001b[39m                                 Traceback (most recent call last)",
      "\u001b[36mCell\u001b[39m\u001b[36m \u001b[39m\u001b[32mIn[11]\u001b[39m\u001b[32m, line 4\u001b[39m\n\u001b[32m      2\u001b[39m \u001b[38;5;28mprint\u001b[39m(ids_list[\u001b[32m0\u001b[39m])\n\u001b[32m      3\u001b[39m \u001b[38;5;28mmax\u001b[39m = \u001b[32m0\u001b[39m\n\u001b[32m----> \u001b[39m\u001b[32m4\u001b[39m \u001b[43mmax_idx\u001b[49m\n\u001b[32m      6\u001b[39m \u001b[38;5;28;01mfor\u001b[39;00m idx, i \u001b[38;5;129;01min\u001b[39;00m \u001b[38;5;28menumerate\u001b[39m(ids_list):\n\u001b[32m      7\u001b[39m     i_list = \u001b[38;5;28meval\u001b[39m(i)\n",
      "\u001b[31mNameError\u001b[39m: name 'max_idx' is not defined"
     ]
    }
   ],
   "source": [
    "ids_list = df_test[\"relevant_passage_ids\"]\n",
    "print(ids_list[0])\n",
    "max = 0\n",
    "max_idx = 0\n",
    "\n",
    "for idx, i in enumerate(ids_list):\n",
    "    i_list = eval(i)\n",
    "    if len(i_list) > max:\n",
    "        max = len(i_list)\n",
    "        max_idx = i_list\n",
    "max, max_idx\n"
   ]
  },
  {
   "cell_type": "code",
   "execution_count": null,
   "metadata": {},
   "outputs": [],
   "source": []
  }
 ],
 "metadata": {
  "kernelspec": {
   "display_name": ".venv",
   "language": "python",
   "name": "python3"
  },
  "language_info": {
   "codemirror_mode": {
    "name": "ipython",
    "version": 3
   },
   "file_extension": ".py",
   "mimetype": "text/x-python",
   "name": "python",
   "nbconvert_exporter": "python",
   "pygments_lexer": "ipython3",
   "version": "3.12.3"
  }
 },
 "nbformat": 4,
 "nbformat_minor": 2
}
