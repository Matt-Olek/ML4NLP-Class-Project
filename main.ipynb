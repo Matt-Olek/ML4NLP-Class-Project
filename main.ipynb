{
 "cells": [
  {
   "cell_type": "code",
   "execution_count": 8,
   "metadata": {},
   "outputs": [],
   "source": [
    "import pandas as pd\n",
    "\n",
    "df_pass = pd.read_parquet(\"hf://datasets/rag-datasets/rag-mini-bioasq/data/passages.parquet/part.0.parquet\")\n",
    "df_test = pd.read_parquet(\"hf://datasets/rag-datasets/rag-mini-bioasq/data/test.parquet/part.0.parquet\")"
   ]
  },
  {
   "cell_type": "code",
   "execution_count": 18,
   "metadata": {},
   "outputs": [
    {
     "name": "stdout",
     "output_type": "stream",
     "text": [
      "Index(['passage'], dtype='object')\n",
      "40221\n"
     ]
    },
    {
     "data": {
      "text/html": [
       "<div>\n",
       "<style scoped>\n",
       "    .dataframe tbody tr th:only-of-type {\n",
       "        vertical-align: middle;\n",
       "    }\n",
       "\n",
       "    .dataframe tbody tr th {\n",
       "        vertical-align: top;\n",
       "    }\n",
       "\n",
       "    .dataframe thead th {\n",
       "        text-align: right;\n",
       "    }\n",
       "</style>\n",
       "<table border=\"1\" class=\"dataframe\">\n",
       "  <thead>\n",
       "    <tr style=\"text-align: right;\">\n",
       "      <th></th>\n",
       "      <th>passage</th>\n",
       "    </tr>\n",
       "    <tr>\n",
       "      <th>id</th>\n",
       "      <th></th>\n",
       "    </tr>\n",
       "  </thead>\n",
       "  <tbody>\n",
       "    <tr>\n",
       "      <th>9797</th>\n",
       "      <td>New data on viruses isolated from patients wit...</td>\n",
       "    </tr>\n",
       "    <tr>\n",
       "      <th>11906</th>\n",
       "      <td>We describe an improved method for detecting d...</td>\n",
       "    </tr>\n",
       "    <tr>\n",
       "      <th>16083</th>\n",
       "      <td>We have studied the effects of curare on respo...</td>\n",
       "    </tr>\n",
       "    <tr>\n",
       "      <th>23188</th>\n",
       "      <td>Kinetic and electrophoretic properties of 230-...</td>\n",
       "    </tr>\n",
       "    <tr>\n",
       "      <th>23469</th>\n",
       "      <td>Male Wistar specific-pathogen-free rats aged 2...</td>\n",
       "    </tr>\n",
       "  </tbody>\n",
       "</table>\n",
       "</div>"
      ],
      "text/plain": [
       "                                                 passage\n",
       "id                                                      \n",
       "9797   New data on viruses isolated from patients wit...\n",
       "11906  We describe an improved method for detecting d...\n",
       "16083  We have studied the effects of curare on respo...\n",
       "23188  Kinetic and electrophoretic properties of 230-...\n",
       "23469  Male Wistar specific-pathogen-free rats aged 2..."
      ]
     },
     "execution_count": 18,
     "metadata": {},
     "output_type": "execute_result"
    }
   ],
   "source": [
    "print(df_pass.columns)\n",
    "print(len(df_pass))\n",
    "df_pass.head()"
   ]
  },
  {
   "cell_type": "code",
   "execution_count": 17,
   "metadata": {},
   "outputs": [
    {
     "name": "stdout",
     "output_type": "stream",
     "text": [
      "passage    New data on viruses isolated from patients wit...\n",
      "Name: 9797, dtype: string\n"
     ]
    }
   ],
   "source": [
    "from langchain_core.documents import Document\n",
    "print(df_pass.iloc[0])\n",
    "docs = [Document(page_content=row[\"passage\"]) for _, row in df_pass.iterrows()]"
   ]
  }
 ],
 "metadata": {
  "kernelspec": {
   "display_name": ".venv",
   "language": "python",
   "name": "python3"
  },
  "language_info": {
   "codemirror_mode": {
    "name": "ipython",
    "version": 3
   },
   "file_extension": ".py",
   "mimetype": "text/x-python",
   "name": "python",
   "nbconvert_exporter": "python",
   "pygments_lexer": "ipython3",
   "version": "3.12.10"
  }
 },
 "nbformat": 4,
 "nbformat_minor": 2
}
